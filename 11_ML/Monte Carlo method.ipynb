{
 "nbformat": 4,
 "nbformat_minor": 2,
 "metadata": {
  "language_info": {
   "name": "python",
   "codemirror_mode": {
    "name": "ipython",
    "version": 3
   }
  },
  "orig_nbformat": 2,
  "file_extension": ".py",
  "mimetype": "text/x-python",
  "name": "python",
  "npconvert_exporter": "python",
  "pygments_lexer": "ipython3",
  "version": 3
 },
 "cells": [
  {
   "cell_type": "markdown",
   "execution_count": null,
   "metadata": {},
   "outputs": [],
   "source": [
    "蒙特卡洛随机方法，即统计模拟方法，是一类以概率统计理论为指导的数值计算方法。本质上是用部分估计整体，采样越多，则越近似最优解。\n",
    "\n",
    "最常见最经典的例子是求圆周率pi的值。\n"
   ]
  },
  {
   "cell_type": "code",
   "execution_count": 3,
   "metadata": {},
   "outputs": [
    {
     "name": "stdout",
     "output_type": "stream",
     "text": "3.14336\n"
    }
   ],
   "source": [
    "import random\n",
    "\n",
    "# 假设半径r=1\n",
    "r = 1\n",
    "\n",
    "count = 0\n",
    "n = 100000\n",
    "\n",
    "for i in range(n):\n",
    "    x = random.uniform(-1, 1)\n",
    "    y = random.uniform(-1, 1)\n",
    "    if x ** 2 + y ** 2 <= 1:\n",
    "        count += 1\n",
    "pi = 4 * (count / n)\n",
    "print(pi)"
   ]
  },
  {
   "cell_type": "code",
   "execution_count": null,
   "metadata": {},
   "outputs": [],
   "source": []
  }
 ]
}